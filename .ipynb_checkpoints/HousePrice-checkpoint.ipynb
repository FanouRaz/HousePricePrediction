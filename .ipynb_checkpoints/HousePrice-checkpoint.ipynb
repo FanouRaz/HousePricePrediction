{
 "cells": [
  {
   "cell_type": "code",
   "execution_count": 1,
   "id": "7be6a6a1",
   "metadata": {},
   "outputs": [],
   "source": [
    "import pandas as pd\n",
    "import matplotlib.pyplot as plt\n",
    "import numpy as np\n",
    "from sklearn.linear_model import LinearRegression\n",
    "from sklearn.linear_model import Ridge\n",
    "from sklearn.model_selection import train_test_split\n",
    "from sklearn.metrics import mean_squared_error\n",
    "from sklearn.preprocessing import StandardScaler"
   ]
  },
  {
   "cell_type": "markdown",
   "id": "58e54653",
   "metadata": {},
   "source": [
    "## Importation et traitement des données récupérer avec pandas"
   ]
  },
  {
   "cell_type": "code",
   "execution_count": 2,
   "id": "cc215d0a",
   "metadata": {},
   "outputs": [
    {
     "data": {
      "text/html": [
       "<div>\n",
       "<style scoped>\n",
       "    .dataframe tbody tr th:only-of-type {\n",
       "        vertical-align: middle;\n",
       "    }\n",
       "\n",
       "    .dataframe tbody tr th {\n",
       "        vertical-align: top;\n",
       "    }\n",
       "\n",
       "    .dataframe thead th {\n",
       "        text-align: right;\n",
       "    }\n",
       "</style>\n",
       "<table border=\"1\" class=\"dataframe\">\n",
       "  <thead>\n",
       "    <tr style=\"text-align: right;\">\n",
       "      <th></th>\n",
       "      <th>bedroom</th>\n",
       "      <th>bathroom</th>\n",
       "      <th>garage</th>\n",
       "      <th>parking</th>\n",
       "      <th>erf-size</th>\n",
       "      <th>building-size</th>\n",
       "      <th>price</th>\n",
       "    </tr>\n",
       "  </thead>\n",
       "  <tbody>\n",
       "    <tr>\n",
       "      <th>0</th>\n",
       "      <td>6.0</td>\n",
       "      <td>6.0</td>\n",
       "      <td>8.0</td>\n",
       "      <td>NaN</td>\n",
       "      <td>5,965 m²</td>\n",
       "      <td>1,700 m²</td>\n",
       "      <td>R100,000,000</td>\n",
       "    </tr>\n",
       "    <tr>\n",
       "      <th>1</th>\n",
       "      <td>5.0</td>\n",
       "      <td>6.0</td>\n",
       "      <td>10.0</td>\n",
       "      <td>NaN</td>\n",
       "      <td>1,241 m²</td>\n",
       "      <td>1,800 m²</td>\n",
       "      <td>POA</td>\n",
       "    </tr>\n",
       "    <tr>\n",
       "      <th>2</th>\n",
       "      <td>4.0</td>\n",
       "      <td>6.0</td>\n",
       "      <td>3.0</td>\n",
       "      <td>NaN</td>\n",
       "      <td>818 m²</td>\n",
       "      <td>900 m²</td>\n",
       "      <td>R85,000,000</td>\n",
       "    </tr>\n",
       "    <tr>\n",
       "      <th>3</th>\n",
       "      <td>4.0</td>\n",
       "      <td>4.5</td>\n",
       "      <td>2.0</td>\n",
       "      <td>2.0</td>\n",
       "      <td>721 m²</td>\n",
       "      <td>780 m²</td>\n",
       "      <td>R85,000,000</td>\n",
       "    </tr>\n",
       "    <tr>\n",
       "      <th>4</th>\n",
       "      <td>5.0</td>\n",
       "      <td>4.5</td>\n",
       "      <td>3.0</td>\n",
       "      <td>NaN</td>\n",
       "      <td>579 m²</td>\n",
       "      <td>625 m²</td>\n",
       "      <td>R82,800,000</td>\n",
       "    </tr>\n",
       "  </tbody>\n",
       "</table>\n",
       "</div>"
      ],
      "text/plain": [
       "   bedroom  bathroom  garage  parking  erf-size building-size         price\n",
       "0      6.0       6.0     8.0      NaN  5,965 m²      1,700 m²  R100,000,000\n",
       "1      5.0       6.0    10.0      NaN  1,241 m²      1,800 m²           POA\n",
       "2      4.0       6.0     3.0      NaN    818 m²        900 m²   R85,000,000\n",
       "3      4.0       4.5     2.0      2.0    721 m²        780 m²   R85,000,000\n",
       "4      5.0       4.5     3.0      NaN    579 m²        625 m²   R82,800,000"
      ]
     },
     "execution_count": 2,
     "metadata": {},
     "output_type": "execute_result"
    }
   ],
   "source": [
    "df = pd.read_csv(\"housePriceCapeTown.csv\",sep=\"|\")\n",
    "df.head()\n"
   ]
  },
  {
   "cell_type": "code",
   "execution_count": 3,
   "id": "694e42b9",
   "metadata": {},
   "outputs": [
    {
     "data": {
      "text/plain": [
       "717.240377     421\n",
       "495.000000       9\n",
       "496.000000       8\n",
       "144.000000       6\n",
       "991.000000       5\n",
       "              ... \n",
       "291.000000       1\n",
       "772.000000       1\n",
       "1363.000000      1\n",
       "511.000000       1\n",
       "96.000000        1\n",
       "Name: erf-size, Length: 610, dtype: int64"
      ]
     },
     "execution_count": 3,
     "metadata": {},
     "output_type": "execute_result"
    }
   ],
   "source": [
    "#cleaning the features erf-size\n",
    "df[\"erf-size\"] = df[\"erf-size\"].fillna(\"0m2\")\n",
    "df[\"erf-size\"] = [str(i)[:-2].replace(\",\",\"\") for i in df[\"erf-size\"] ]  \n",
    "df[\"erf-size\"] = [int(i) for i in df[\"erf-size\"]]\n",
    "df[\"erf-size\"] = df[\"erf-size\"].replace(0,df[\"erf-size\"].mean())\n",
    "\n",
    "df[\"erf-size\"].value_counts()"
   ]
  },
  {
   "cell_type": "code",
   "execution_count": 4,
   "id": "60341788",
   "metadata": {},
   "outputs": [],
   "source": [
    "#cleaning price\n",
    "df[\"price\"] = [str(i)[1:].replace(\",\",\"\") for i in df[\"price\"]]\n",
    "##effacer les maisons avec un prix POA\n",
    "index = df[df[\"price\"]==\"OA\"].index\n",
    "df.drop(index,inplace=True)\n",
    "df[\"price\"] = df[\"price\"].astype(int)"
   ]
  },
  {
   "cell_type": "code",
   "execution_count": 5,
   "id": "d9a69dff",
   "metadata": {},
   "outputs": [
    {
     "data": {
      "text/plain": [
       "154.979479    352\n",
       "86.000000      16\n",
       "60.000000      11\n",
       "64.000000      10\n",
       "55.000000       9\n",
       "             ... \n",
       "426.000000      1\n",
       "571.000000      1\n",
       "850.000000      1\n",
       "348.000000      1\n",
       "20.000000       1\n",
       "Name: building-size, Length: 356, dtype: int64"
      ]
     },
     "execution_count": 5,
     "metadata": {},
     "output_type": "execute_result"
    }
   ],
   "source": [
    "#cleaning the feature building-size \n",
    "df[\"building-size\"] = df[\"building-size\"].fillna(\"0m2\")\n",
    "df[\"building-size\"] = [str(i)[:-2].replace(\",\",\"\") for i in df[\"building-size\"] ]  \n",
    "df[\"building-size\"] = [int(i) for i in df[\"building-size\"]]\n",
    "df[\"building-size\"] = df[\"building-size\"].replace(0,df[\"building-size\"].mean())\n",
    "df[\"building-size\"].value_counts()"
   ]
  },
  {
   "cell_type": "code",
   "execution_count": 6,
   "id": "c8172e27",
   "metadata": {},
   "outputs": [],
   "source": [
    "###cleaning other features\n",
    "df[\"parking\"] = df[\"parking\"].fillna(0)\n",
    "df[\"bedroom\"] = df[\"bedroom\"].fillna(1)\n",
    "df[\"bathroom\"]= df[\"bathroom\"].fillna(1)\n",
    "df[\"garage\"] = df[\"garage\"].fillna(0)\n"
   ]
  },
  {
   "cell_type": "markdown",
   "id": "0c11ee21",
   "metadata": {},
   "source": [
    "### Data analysis"
   ]
  },
  {
   "cell_type": "code",
   "execution_count": 7,
   "id": "84422782",
   "metadata": {},
   "outputs": [
    {
     "data": {
      "text/html": [
       "<div>\n",
       "<style scoped>\n",
       "    .dataframe tbody tr th:only-of-type {\n",
       "        vertical-align: middle;\n",
       "    }\n",
       "\n",
       "    .dataframe tbody tr th {\n",
       "        vertical-align: top;\n",
       "    }\n",
       "\n",
       "    .dataframe thead th {\n",
       "        text-align: right;\n",
       "    }\n",
       "</style>\n",
       "<table border=\"1\" class=\"dataframe\">\n",
       "  <thead>\n",
       "    <tr style=\"text-align: right;\">\n",
       "      <th></th>\n",
       "      <th>bedroom</th>\n",
       "      <th>bathroom</th>\n",
       "      <th>garage</th>\n",
       "      <th>parking</th>\n",
       "      <th>erf-size</th>\n",
       "      <th>building-size</th>\n",
       "      <th>price</th>\n",
       "    </tr>\n",
       "  </thead>\n",
       "  <tbody>\n",
       "    <tr>\n",
       "      <th>count</th>\n",
       "      <td>1267.000000</td>\n",
       "      <td>1267.000000</td>\n",
       "      <td>1267.000000</td>\n",
       "      <td>1267.000000</td>\n",
       "      <td>1267.000000</td>\n",
       "      <td>1267.000000</td>\n",
       "      <td>1.267000e+03</td>\n",
       "    </tr>\n",
       "    <tr>\n",
       "      <th>mean</th>\n",
       "      <td>3.031571</td>\n",
       "      <td>2.428966</td>\n",
       "      <td>1.078137</td>\n",
       "      <td>0.543804</td>\n",
       "      <td>951.971743</td>\n",
       "      <td>198.036130</td>\n",
       "      <td>7.622559e+06</td>\n",
       "    </tr>\n",
       "    <tr>\n",
       "      <th>std</th>\n",
       "      <td>1.455701</td>\n",
       "      <td>1.492109</td>\n",
       "      <td>1.297483</td>\n",
       "      <td>1.071798</td>\n",
       "      <td>3937.200417</td>\n",
       "      <td>180.809359</td>\n",
       "      <td>1.079262e+07</td>\n",
       "    </tr>\n",
       "    <tr>\n",
       "      <th>min</th>\n",
       "      <td>1.000000</td>\n",
       "      <td>1.000000</td>\n",
       "      <td>0.000000</td>\n",
       "      <td>0.000000</td>\n",
       "      <td>24.000000</td>\n",
       "      <td>20.000000</td>\n",
       "      <td>3.700000e+05</td>\n",
       "    </tr>\n",
       "    <tr>\n",
       "      <th>25%</th>\n",
       "      <td>2.000000</td>\n",
       "      <td>1.000000</td>\n",
       "      <td>0.000000</td>\n",
       "      <td>0.000000</td>\n",
       "      <td>381.000000</td>\n",
       "      <td>90.000000</td>\n",
       "      <td>1.875000e+06</td>\n",
       "    </tr>\n",
       "    <tr>\n",
       "      <th>50%</th>\n",
       "      <td>3.000000</td>\n",
       "      <td>2.000000</td>\n",
       "      <td>1.000000</td>\n",
       "      <td>0.000000</td>\n",
       "      <td>717.240377</td>\n",
       "      <td>154.979479</td>\n",
       "      <td>3.750000e+06</td>\n",
       "    </tr>\n",
       "    <tr>\n",
       "      <th>75%</th>\n",
       "      <td>4.000000</td>\n",
       "      <td>3.000000</td>\n",
       "      <td>2.000000</td>\n",
       "      <td>1.000000</td>\n",
       "      <td>731.000000</td>\n",
       "      <td>213.000000</td>\n",
       "      <td>8.500000e+06</td>\n",
       "    </tr>\n",
       "    <tr>\n",
       "      <th>max</th>\n",
       "      <td>11.000000</td>\n",
       "      <td>11.000000</td>\n",
       "      <td>10.000000</td>\n",
       "      <td>13.000000</td>\n",
       "      <td>132497.000000</td>\n",
       "      <td>1700.000000</td>\n",
       "      <td>1.000000e+08</td>\n",
       "    </tr>\n",
       "  </tbody>\n",
       "</table>\n",
       "</div>"
      ],
      "text/plain": [
       "           bedroom     bathroom       garage      parking       erf-size  \\\n",
       "count  1267.000000  1267.000000  1267.000000  1267.000000    1267.000000   \n",
       "mean      3.031571     2.428966     1.078137     0.543804     951.971743   \n",
       "std       1.455701     1.492109     1.297483     1.071798    3937.200417   \n",
       "min       1.000000     1.000000     0.000000     0.000000      24.000000   \n",
       "25%       2.000000     1.000000     0.000000     0.000000     381.000000   \n",
       "50%       3.000000     2.000000     1.000000     0.000000     717.240377   \n",
       "75%       4.000000     3.000000     2.000000     1.000000     731.000000   \n",
       "max      11.000000    11.000000    10.000000    13.000000  132497.000000   \n",
       "\n",
       "       building-size         price  \n",
       "count    1267.000000  1.267000e+03  \n",
       "mean      198.036130  7.622559e+06  \n",
       "std       180.809359  1.079262e+07  \n",
       "min        20.000000  3.700000e+05  \n",
       "25%        90.000000  1.875000e+06  \n",
       "50%       154.979479  3.750000e+06  \n",
       "75%       213.000000  8.500000e+06  \n",
       "max      1700.000000  1.000000e+08  "
      ]
     },
     "execution_count": 7,
     "metadata": {},
     "output_type": "execute_result"
    }
   ],
   "source": [
    "corr = df.corr()\n",
    "df.describe()"
   ]
  },
  {
   "cell_type": "code",
   "execution_count": 8,
   "id": "a1c6d1e1",
   "metadata": {},
   "outputs": [
    {
     "data": {
      "text/html": [
       "<div>\n",
       "<style scoped>\n",
       "    .dataframe tbody tr th:only-of-type {\n",
       "        vertical-align: middle;\n",
       "    }\n",
       "\n",
       "    .dataframe tbody tr th {\n",
       "        vertical-align: top;\n",
       "    }\n",
       "\n",
       "    .dataframe thead th {\n",
       "        text-align: right;\n",
       "    }\n",
       "</style>\n",
       "<table border=\"1\" class=\"dataframe\">\n",
       "  <thead>\n",
       "    <tr style=\"text-align: right;\">\n",
       "      <th></th>\n",
       "      <th>bedroom</th>\n",
       "      <th>bathroom</th>\n",
       "      <th>garage</th>\n",
       "      <th>parking</th>\n",
       "      <th>erf-size</th>\n",
       "      <th>building-size</th>\n",
       "      <th>price</th>\n",
       "    </tr>\n",
       "  </thead>\n",
       "  <tbody>\n",
       "    <tr>\n",
       "      <th>bedroom</th>\n",
       "      <td>1.000000</td>\n",
       "      <td>0.824720</td>\n",
       "      <td>0.633951</td>\n",
       "      <td>-0.063664</td>\n",
       "      <td>0.022031</td>\n",
       "      <td>0.604746</td>\n",
       "      <td>0.410568</td>\n",
       "    </tr>\n",
       "    <tr>\n",
       "      <th>bathroom</th>\n",
       "      <td>0.824720</td>\n",
       "      <td>1.000000</td>\n",
       "      <td>0.604675</td>\n",
       "      <td>0.017506</td>\n",
       "      <td>0.052774</td>\n",
       "      <td>0.639897</td>\n",
       "      <td>0.584909</td>\n",
       "    </tr>\n",
       "    <tr>\n",
       "      <th>garage</th>\n",
       "      <td>0.633951</td>\n",
       "      <td>0.604675</td>\n",
       "      <td>1.000000</td>\n",
       "      <td>-0.174284</td>\n",
       "      <td>0.028523</td>\n",
       "      <td>0.564237</td>\n",
       "      <td>0.368406</td>\n",
       "    </tr>\n",
       "    <tr>\n",
       "      <th>parking</th>\n",
       "      <td>-0.063664</td>\n",
       "      <td>0.017506</td>\n",
       "      <td>-0.174284</td>\n",
       "      <td>1.000000</td>\n",
       "      <td>0.022839</td>\n",
       "      <td>0.054179</td>\n",
       "      <td>0.150897</td>\n",
       "    </tr>\n",
       "    <tr>\n",
       "      <th>erf-size</th>\n",
       "      <td>0.022031</td>\n",
       "      <td>0.052774</td>\n",
       "      <td>0.028523</td>\n",
       "      <td>0.022839</td>\n",
       "      <td>1.000000</td>\n",
       "      <td>0.027353</td>\n",
       "      <td>0.052290</td>\n",
       "    </tr>\n",
       "    <tr>\n",
       "      <th>building-size</th>\n",
       "      <td>0.604746</td>\n",
       "      <td>0.639897</td>\n",
       "      <td>0.564237</td>\n",
       "      <td>0.054179</td>\n",
       "      <td>0.027353</td>\n",
       "      <td>1.000000</td>\n",
       "      <td>0.489976</td>\n",
       "    </tr>\n",
       "    <tr>\n",
       "      <th>price</th>\n",
       "      <td>0.410568</td>\n",
       "      <td>0.584909</td>\n",
       "      <td>0.368406</td>\n",
       "      <td>0.150897</td>\n",
       "      <td>0.052290</td>\n",
       "      <td>0.489976</td>\n",
       "      <td>1.000000</td>\n",
       "    </tr>\n",
       "  </tbody>\n",
       "</table>\n",
       "</div>"
      ],
      "text/plain": [
       "                bedroom  bathroom    garage   parking  erf-size  \\\n",
       "bedroom        1.000000  0.824720  0.633951 -0.063664  0.022031   \n",
       "bathroom       0.824720  1.000000  0.604675  0.017506  0.052774   \n",
       "garage         0.633951  0.604675  1.000000 -0.174284  0.028523   \n",
       "parking       -0.063664  0.017506 -0.174284  1.000000  0.022839   \n",
       "erf-size       0.022031  0.052774  0.028523  0.022839  1.000000   \n",
       "building-size  0.604746  0.639897  0.564237  0.054179  0.027353   \n",
       "price          0.410568  0.584909  0.368406  0.150897  0.052290   \n",
       "\n",
       "               building-size     price  \n",
       "bedroom             0.604746  0.410568  \n",
       "bathroom            0.639897  0.584909  \n",
       "garage              0.564237  0.368406  \n",
       "parking             0.054179  0.150897  \n",
       "erf-size            0.027353  0.052290  \n",
       "building-size       1.000000  0.489976  \n",
       "price               0.489976  1.000000  "
      ]
     },
     "execution_count": 8,
     "metadata": {},
     "output_type": "execute_result"
    }
   ],
   "source": [
    "corr"
   ]
  },
  {
   "cell_type": "code",
   "execution_count": 9,
   "id": "63077ce9",
   "metadata": {},
   "outputs": [
    {
     "data": {
      "text/plain": [
       "array([[<AxesSubplot: title={'center': 'bedroom'}>,\n",
       "        <AxesSubplot: title={'center': 'bathroom'}>,\n",
       "        <AxesSubplot: title={'center': 'garage'}>],\n",
       "       [<AxesSubplot: title={'center': 'parking'}>,\n",
       "        <AxesSubplot: title={'center': 'erf-size'}>,\n",
       "        <AxesSubplot: title={'center': 'building-size'}>],\n",
       "       [<AxesSubplot: title={'center': 'price'}>, <AxesSubplot: >,\n",
       "        <AxesSubplot: >]], dtype=object)"
      ]
     },
     "execution_count": 9,
     "metadata": {},
     "output_type": "execute_result"
    },
    {
     "data": {
      "image/png": "[encoded data removed]",
      "text/plain": [
       "<Figure size 432x288 with 9 Axes>"
      ]
     },
     "metadata": {
      "needs_background": "light"
     },
     "output_type": "display_data"
    }
   ],
   "source": [
    "df.hist()\n"
   ]
  },
  {
   "cell_type": "code",
   "execution_count": 10,
   "id": "bdbaf156",
   "metadata": {},
   "outputs": [
    {
     "data": {
      "text/plain": [
       "array([[ 2.03998025,  2.39422536,  5.33694368, -0.50757602,  1.27374967,\n",
       "         8.31017241],\n",
       "       [ 0.66552932,  2.39422536,  1.4818082 , -0.50757602, -0.03404059,\n",
       "         3.88387557],\n",
       "       [ 0.66552932,  1.38853958,  0.7107811 ,  1.35918397, -0.05868712,\n",
       "         3.21993105],\n",
       "       ...,\n",
       "       [-0.02169615, -0.95806056, -0.8312731 , -0.50757602, -0.20529582,\n",
       "        -0.2382269 ],\n",
       "       [-1.39614708, -0.95806056, -0.8312731 , -0.50757602, -0.23324548,\n",
       "        -0.90759075],\n",
       "       [-1.39614708, -0.95806056, -0.8312731 , -0.50757602, -0.23324548,\n",
       "        -0.90759075]])"
      ]
     },
     "execution_count": 10,
     "metadata": {},
     "output_type": "execute_result"
    }
   ],
   "source": [
    "#standard scaler \n",
    "scaler = StandardScaler()\n",
    "df1 = scaler.fit_transform(df[[\"bedroom\",\"bathroom\",\"garage\",\"parking\",\"erf-size\",\"building-size\"]])\n",
    "df1"
   ]
  },
  {
   "cell_type": "markdown",
   "id": "956fcf62",
   "metadata": {},
   "source": [
    "### Choix du modèle"
   ]
  },
  {
   "cell_type": "code",
   "execution_count": 11,
   "id": "1238d013",
   "metadata": {},
   "outputs": [],
   "source": [
    "\n",
    "X_train ,X_test,y_train,y_test = train_test_split(df1,df[\"price\"],test_size= 0.2,random_state=42)\n"
   ]
  },
  {
   "cell_type": "code",
   "execution_count": 16,
   "id": "6ca35844",
   "metadata": {},
   "outputs": [
    {
     "name": "stdout",
     "output_type": "stream",
     "text": [
      "0.473007247929218\n"
     ]
    }
   ],
   "source": [
    "model = LinearRegression()\n",
    "modelRidge = Ridge()\n",
    "\n",
    "\n",
    "#model.fit(X_train,np.log(y_train))\n",
    "modelRidge.fit(X_train,y_train)\n",
    "\n",
    "pred = model.predict(X_test)\n",
    "\n",
    "print(mean_squared_error(pred,np.log(y_test)))"
   ]
  },
  {
   "cell_type": "code",
   "execution_count": null,
   "id": "5adad90a",
   "metadata": {},
   "outputs": [],
   "source": []
  }
 ],
 "metadata": {
  "kernelspec": {
   "display_name": "Python 3 (ipykernel)",
   "language": "python",
   "name": "python3"
  },
  "language_info": {
   "codemirror_mode": {
    "name": "ipython",
    "version": 3
   },
   "file_extension": ".py",
   "mimetype": "text/x-python",
   "name": "python",
   "nbconvert_exporter": "python",
   "pygments_lexer": "ipython3",
   "version": "3.10.6"
  }
 },
 "nbformat": 4,
 "nbformat_minor": 5
}
