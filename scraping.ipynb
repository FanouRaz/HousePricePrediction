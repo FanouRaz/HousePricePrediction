{
 "cells": [
  {
   "cell_type": "code",
   "execution_count": 1,
   "id": "5554e7b4",
   "metadata": {},
   "outputs": [],
   "source": [
    "# Repartition scrapping\n",
    "# pages: 1 - 32 Donatello for i in range(32):\n",
    "# pages: 32 - 64 Vgg for i in range(32, 64):\n",
    "# pages: 64 - 96 Bernardin for i in range(64, 96):\n",
    "# pages: 96 - 129 Tense for i in range(96, 129):\n",
    "\n",
    "#%pip install beautifulsoup4\n",
    "#%pip install requests\n",
    "import requests\n",
    "from bs4 import BeautifulSoup"
   ]
  },
  {
   "cell_type": "code",
   "execution_count": 78,
   "id": "616a2da8",
   "metadata": {
    "scrolled": false
   },
   "outputs": [
    {
     "name": "stdout",
     "output_type": "stream",
     "text": [
      "https://www.pamgolding.co.za/property-search/residential-properties-for-sale-cape-town/ed79db7a-90d2-4565-b8f1-8b225303dc15/page1\n",
      "https://www.pamgolding.co.za/property-search/residential-properties-for-sale-cape-town/ed79db7a-90d2-4565-b8f1-8b225303dc15/page2\n",
      "[{'target': 'R100,000,000', 'features': [{'feature': 'bedroom', 'value': '6'}, {'feature': 'bathroom', 'value': '6'}, {'feature': 'garage', 'value': '8'}, {'feature': 'erf-size', 'value': '5,965 m²'}, {'feature': 'building-size', 'value': '1,700 m²'}]}, {'target': 'POA', 'features': [{'feature': 'bedroom', 'value': '5'}, {'feature': 'bathroom', 'value': '6'}, {'feature': 'garage', 'value': '10'}, {'feature': 'erf-size', 'value': '1,241 m²'}, {'feature': 'building-size', 'value': '1,800 m²'}]}, {'target': 'R85,000,000', 'features': [{'feature': 'bedroom', 'value': '4'}, {'feature': 'bathroom', 'value': '6'}, {'feature': 'garage', 'value': '3'}, {'feature': 'erf-size', 'value': '818 m²'}, {'feature': 'building-size', 'value': '900 m²'}]}, {'target': 'R85,000,000', 'features': [{'feature': 'bedroom', 'value': '4'}, {'feature': 'bathroom', 'value': '4.5'}, {'feature': 'garage', 'value': '2'}, {'feature': 'parking', 'value': '2'}, {'feature': 'erf-size', 'value': '721 m²'}, {'feature': 'building-size', 'value': '780 m²'}]}, {'target': 'R82,800,000', 'features': [{'feature': 'bedroom', 'value': '5'}, {'feature': 'bathroom', 'value': '4.5'}, {'feature': 'garage', 'value': '3'}, {'feature': 'erf-size', 'value': '579 m²'}, {'feature': 'building-size', 'value': '625 m²'}]}, {'target': 'R75,000,000', 'features': [{'feature': 'bedroom', 'value': '5'}, {'feature': 'bathroom', 'value': '5.5'}, {'feature': 'garage', 'value': '3'}, {'feature': 'erf-size', 'value': '705 m²'}]}, {'target': 'R75,000,000', 'features': [{'feature': 'bedroom', 'value': '5'}, {'feature': 'bathroom', 'value': '4'}, {'feature': 'erf-size', 'value': '403 m²'}, {'feature': 'building-size', 'value': '306 m²'}]}, {'target': 'R75,000,000', 'features': [{'feature': 'bedroom', 'value': '5'}, {'feature': 'bathroom', 'value': '5'}, {'feature': 'garage', 'value': '3'}, {'feature': 'erf-size', 'value': '1,550 m²'}]}, {'target': 'R69,995,000', 'features': [{'feature': 'bedroom', 'value': '5'}, {'feature': 'bathroom', 'value': '6'}, {'feature': 'garage', 'value': '3'}, {'feature': 'erf-size', 'value': '3,195 m²'}]}, {'target': 'R63,000,000', 'features': [{'feature': 'bedroom', 'value': '4'}, {'feature': 'bathroom', 'value': '4'}, {'feature': 'parking', 'value': '3'}, {'feature': 'building-size', 'value': '430 m²'}]}, {'target': None, 'features': [{'feature': 'star', 'value': None}, {'feature': 'bedroom', 'value': None}, {'feature': 'bathroom', 'value': None}, {'feature': 'garage', 'value': None}, {'feature': 'parking', 'value': None}, {'feature': 'erf-size', 'value': None}, {'feature': 'erf-size', 'value': None}, {'feature': 'erf-size', 'value': None}, {'feature': 'erf-size', 'value': None}, {'feature': 'building-s', 'value': None}, {'feature': 'building-size', 'value': None}, {'feature': 'building-size', 'value': None}, {'feature': 'building-size', 'value': None}]}, {'target': 'R59,000,000', 'features': [{'feature': 'bedroom', 'value': '4'}, {'feature': 'bathroom', 'value': '4.5'}, {'feature': 'parking', 'value': '4'}, {'feature': 'building-size', 'value': '411 m²'}]}, {'target': 'R59,000,000', 'features': [{'feature': 'bedroom', 'value': '6'}, {'feature': 'bathroom', 'value': '6'}, {'feature': 'parking', 'value': '2'}, {'feature': 'erf-size', 'value': '991 m²'}, {'feature': 'building-size', 'value': '862 m²'}]}, {'target': 'R59,000,000', 'features': [{'feature': 'bedroom', 'value': '3'}, {'feature': 'bathroom', 'value': '3'}, {'feature': 'erf-size', 'value': '476 m²'}]}, {'target': 'POA', 'features': [{'feature': 'bedroom', 'value': '3'}, {'feature': 'bathroom', 'value': '3'}, {'feature': 'parking', 'value': '3'}, {'feature': 'erf-size', 'value': '341 m²'}, {'feature': 'building-size', 'value': '341 m²'}]}, {'target': 'R57,000,000', 'features': [{'feature': 'bedroom', 'value': '4'}, {'feature': 'bathroom', 'value': '4'}, {'feature': 'garage', 'value': '2'}, {'feature': 'erf-size', 'value': '10,900 m²'}]}, {'target': 'R50,000,000', 'features': [{'feature': 'bedroom', 'value': '3'}, {'feature': 'bathroom', 'value': '3'}, {'feature': 'erf-size', 'value': '366 m²'}, {'feature': 'building-size', 'value': '213 m²'}]}, {'target': 'R49,995,000', 'features': [{'feature': 'bedroom', 'value': '2'}, {'feature': 'bathroom', 'value': '2.5'}, {'feature': 'parking', 'value': '3'}, {'feature': 'building-size', 'value': '277 m²'}]}, {'target': 'R49,995,000', 'features': [{'feature': 'bedroom', 'value': '3'}, {'feature': 'bathroom', 'value': '4'}, {'feature': 'parking', 'value': '3'}, {'feature': 'building-size', 'value': '509 m²'}]}, {'target': 'R49,995,000', 'features': [{'feature': 'bedroom', 'value': '4'}, {'feature': 'bathroom', 'value': '5.5'}, {'feature': 'garage', 'value': '3'}, {'feature': 'parking', 'value': '3'}, {'feature': 'erf-size', 'value': '1,095 m²'}]}, {'target': 'R49,800,000', 'features': [{'feature': 'bedroom', 'value': '7'}, {'feature': 'bathroom', 'value': '7'}, {'feature': 'garage', 'value': '2'}, {'feature': 'parking', 'value': '10'}, {'feature': 'erf-size', 'value': '4,673 m²'}, {'feature': 'building-size', 'value': '885 m²'}]}, {'target': None, 'features': [{'feature': 'star', 'value': None}, {'feature': 'bedroom', 'value': None}, {'feature': 'bathroom', 'value': None}, {'feature': 'garage', 'value': None}, {'feature': 'parking', 'value': None}, {'feature': 'erf-size', 'value': None}, {'feature': 'erf-size', 'value': None}, {'feature': 'erf-size', 'value': None}, {'feature': 'erf-size', 'value': None}, {'feature': 'building-s', 'value': None}, {'feature': 'building-size', 'value': None}, {'feature': 'building-size', 'value': None}, {'feature': 'building-size', 'value': None}]}]\n"
     ]
    }
   ],
   "source": [
    "url = 'https://www.pamgolding.co.za/property-search/residential-properties-for-sale-cape-town/ed79db7a-90d2-4565-b8f1-8b225303dc15'\n",
    "maisons = []\n",
    "\n",
    "#enregistrer dans un fichier\n",
    "for i in range(2):\n",
    "    urls = url + \"/page\" + str(i+1)\n",
    "    print(urls)\n",
    "    page = requests.get(urls)\n",
    "    soupe = BeautifulSoup(page.text,\"html.parser\")\n",
    "    houses = soupe.find_all(class_=\"pgp-property-content\")\n",
    "    for house in houses:\n",
    "        price = house.find(\"span\",{\"class\":\"pgp-price\"})\n",
    "        features = house.find(\"div\",{\"class\":\"pgp-features\"}).find_all(\"div\")\n",
    "            \n",
    "        maison = {\"target\":price.string,\"features\":[]}\n",
    "        for feature in features:      \n",
    "            if len(feature.contents[3][\"class\"]) == 2:\n",
    "                value = feature.contents[1].string\n",
    "                name = feature.contents[3][\"class\"][1] \n",
    "            else:\n",
    "                value = feature.contents[3].string\n",
    "                name = feature.contents[1][\"class\"][1] \n",
    "        \n",
    "            maison[\"features\"].append({\"feature\":name,\"value\":value})\n",
    "        \n",
    "        maisons.append(maison)\n",
    "    \n",
    "print(maisons)\n",
    "           \n",
    "    \n",
    "    #pages.append(house)                                         \n"
   ]
  },
  {
   "cell_type": "markdown",
   "id": "af4d4507",
   "metadata": {},
   "source": []
  },
  {
   "cell_type": "code",
   "execution_count": null,
   "id": "b32ad0c3",
   "metadata": {},
   "outputs": [],
   "source": []
  }
 ],
 "metadata": {
  "kernelspec": {
   "display_name": "Python 3 (ipykernel)",
   "language": "python",
   "name": "python3"
  },
  "language_info": {
   "codemirror_mode": {
    "name": "ipython",
    "version": 3
   },
   "file_extension": ".py",
   "mimetype": "text/x-python",
   "name": "python",
   "nbconvert_exporter": "python",
   "pygments_lexer": "ipython3",
   "version": "3.10.8"
  },
  "vscode": {
   "interpreter": {
    "hash": "916dbcbb3f70747c44a77c7bcd40155683ae19c65e1c03b4aa3499c5328201f1"
   }
  }
 },
 "nbformat": 4,
 "nbformat_minor": 5
}
