{
 "cells": [
  {
   "cell_type": "code",
   "execution_count": 162,
   "id": "5554e7b4",
   "metadata": {},
   "outputs": [],
   "source": [
    "#%pip install beautifulsoup4\n",
    "#%pip install requests\n",
    "import requests\n",
    "from bs4 import BeautifulSoup\n",
    "from csv import writer"
   ]
  },
  {
   "cell_type": "markdown",
   "id": "3777bc34",
   "metadata": {},
   "source": [
    "## Collecte des données concernant le prix des maisons de Cape Town "
   ]
  },
  {
   "cell_type": "code",
   "execution_count": null,
   "id": "616a2da8",
   "metadata": {
    "scrolled": false
   },
   "outputs": [
    {
     "name": "stdout",
     "output_type": "stream",
     "text": [
      "https://www.pamgolding.co.za/property-search/residential-properties-for-sale-cape-town/ed79db7a-90d2-4565-b8f1-8b225303dc15/page1\n",
      "https://www.pamgolding.co.za/property-search/residential-properties-for-sale-cape-town/ed79db7a-90d2-4565-b8f1-8b225303dc15/page2\n",
      "https://www.pamgolding.co.za/property-search/residential-properties-for-sale-cape-town/ed79db7a-90d2-4565-b8f1-8b225303dc15/page3\n",
      "https://www.pamgolding.co.za/property-search/residential-properties-for-sale-cape-town/ed79db7a-90d2-4565-b8f1-8b225303dc15/page4\n",
      "https://www.pamgolding.co.za/property-search/residential-properties-for-sale-cape-town/ed79db7a-90d2-4565-b8f1-8b225303dc15/page5\n",
      "https://www.pamgolding.co.za/property-search/residential-properties-for-sale-cape-town/ed79db7a-90d2-4565-b8f1-8b225303dc15/page6\n",
      "https://www.pamgolding.co.za/property-search/residential-properties-for-sale-cape-town/ed79db7a-90d2-4565-b8f1-8b225303dc15/page7\n",
      "https://www.pamgolding.co.za/property-search/residential-properties-for-sale-cape-town/ed79db7a-90d2-4565-b8f1-8b225303dc15/page8\n",
      "https://www.pamgolding.co.za/property-search/residential-properties-for-sale-cape-town/ed79db7a-90d2-4565-b8f1-8b225303dc15/page9\n",
      "https://www.pamgolding.co.za/property-search/residential-properties-for-sale-cape-town/ed79db7a-90d2-4565-b8f1-8b225303dc15/page10\n",
      "https://www.pamgolding.co.za/property-search/residential-properties-for-sale-cape-town/ed79db7a-90d2-4565-b8f1-8b225303dc15/page11\n",
      "https://www.pamgolding.co.za/property-search/residential-properties-for-sale-cape-town/ed79db7a-90d2-4565-b8f1-8b225303dc15/page12\n",
      "https://www.pamgolding.co.za/property-search/residential-properties-for-sale-cape-town/ed79db7a-90d2-4565-b8f1-8b225303dc15/page13\n",
      "https://www.pamgolding.co.za/property-search/residential-properties-for-sale-cape-town/ed79db7a-90d2-4565-b8f1-8b225303dc15/page14\n",
      "https://www.pamgolding.co.za/property-search/residential-properties-for-sale-cape-town/ed79db7a-90d2-4565-b8f1-8b225303dc15/page15\n",
      "https://www.pamgolding.co.za/property-search/residential-properties-for-sale-cape-town/ed79db7a-90d2-4565-b8f1-8b225303dc15/page16\n",
      "https://www.pamgolding.co.za/property-search/residential-properties-for-sale-cape-town/ed79db7a-90d2-4565-b8f1-8b225303dc15/page17\n",
      "https://www.pamgolding.co.za/property-search/residential-properties-for-sale-cape-town/ed79db7a-90d2-4565-b8f1-8b225303dc15/page18\n",
      "https://www.pamgolding.co.za/property-search/residential-properties-for-sale-cape-town/ed79db7a-90d2-4565-b8f1-8b225303dc15/page19\n",
      "https://www.pamgolding.co.za/property-search/residential-properties-for-sale-cape-town/ed79db7a-90d2-4565-b8f1-8b225303dc15/page20\n",
      "https://www.pamgolding.co.za/property-search/residential-properties-for-sale-cape-town/ed79db7a-90d2-4565-b8f1-8b225303dc15/page21\n",
      "https://www.pamgolding.co.za/property-search/residential-properties-for-sale-cape-town/ed79db7a-90d2-4565-b8f1-8b225303dc15/page22\n",
      "https://www.pamgolding.co.za/property-search/residential-properties-for-sale-cape-town/ed79db7a-90d2-4565-b8f1-8b225303dc15/page23\n",
      "https://www.pamgolding.co.za/property-search/residential-properties-for-sale-cape-town/ed79db7a-90d2-4565-b8f1-8b225303dc15/page24\n",
      "https://www.pamgolding.co.za/property-search/residential-properties-for-sale-cape-town/ed79db7a-90d2-4565-b8f1-8b225303dc15/page25\n",
      "https://www.pamgolding.co.za/property-search/residential-properties-for-sale-cape-town/ed79db7a-90d2-4565-b8f1-8b225303dc15/page26\n",
      "https://www.pamgolding.co.za/property-search/residential-properties-for-sale-cape-town/ed79db7a-90d2-4565-b8f1-8b225303dc15/page27\n",
      "https://www.pamgolding.co.za/property-search/residential-properties-for-sale-cape-town/ed79db7a-90d2-4565-b8f1-8b225303dc15/page28\n",
      "https://www.pamgolding.co.za/property-search/residential-properties-for-sale-cape-town/ed79db7a-90d2-4565-b8f1-8b225303dc15/page29\n",
      "https://www.pamgolding.co.za/property-search/residential-properties-for-sale-cape-town/ed79db7a-90d2-4565-b8f1-8b225303dc15/page30\n",
      "https://www.pamgolding.co.za/property-search/residential-properties-for-sale-cape-town/ed79db7a-90d2-4565-b8f1-8b225303dc15/page31\n",
      "https://www.pamgolding.co.za/property-search/residential-properties-for-sale-cape-town/ed79db7a-90d2-4565-b8f1-8b225303dc15/page32\n",
      "https://www.pamgolding.co.za/property-search/residential-properties-for-sale-cape-town/ed79db7a-90d2-4565-b8f1-8b225303dc15/page33\n",
      "https://www.pamgolding.co.za/property-search/residential-properties-for-sale-cape-town/ed79db7a-90d2-4565-b8f1-8b225303dc15/page34\n",
      "https://www.pamgolding.co.za/property-search/residential-properties-for-sale-cape-town/ed79db7a-90d2-4565-b8f1-8b225303dc15/page35\n",
      "https://www.pamgolding.co.za/property-search/residential-properties-for-sale-cape-town/ed79db7a-90d2-4565-b8f1-8b225303dc15/page36\n",
      "https://www.pamgolding.co.za/property-search/residential-properties-for-sale-cape-town/ed79db7a-90d2-4565-b8f1-8b225303dc15/page37\n",
      "https://www.pamgolding.co.za/property-search/residential-properties-for-sale-cape-town/ed79db7a-90d2-4565-b8f1-8b225303dc15/page38\n",
      "https://www.pamgolding.co.za/property-search/residential-properties-for-sale-cape-town/ed79db7a-90d2-4565-b8f1-8b225303dc15/page39\n",
      "https://www.pamgolding.co.za/property-search/residential-properties-for-sale-cape-town/ed79db7a-90d2-4565-b8f1-8b225303dc15/page40\n",
      "https://www.pamgolding.co.za/property-search/residential-properties-for-sale-cape-town/ed79db7a-90d2-4565-b8f1-8b225303dc15/page41\n"
     ]
    }
   ],
   "source": [
    "url = 'https://www.pamgolding.co.za/property-search/residential-properties-for-sale-cape-town/ed79db7a-90d2-4565-b8f1-8b225303dc15'\n",
    "maisons = []\n",
    "\n",
    "#Récupération des données \n",
    "for i in range(128):\n",
    "    urls = url + \"/page\" + str(i+1)\n",
    "    print(urls)\n",
    "    page = requests.get(urls)\n",
    "    soupe = BeautifulSoup(page.text,\"html.parser\")\n",
    "    houses = soupe.find_all(class_=\"pgp-property-content\")\n",
    "    for house in houses[:len(houses)-1]:\n",
    "        price = house.find(\"span\",{\"class\":\"pgp-price\"})\n",
    "        features = house.find(\"div\",{\"class\":\"pgp-features\"}).find_all(\"div\")    \n",
    "        maison = {\"price\":price.string,\"features\":{}}\n",
    "        for feature in features:   \n",
    "            #print(feature.contents)\n",
    "            if len(feature.contents[3][\"class\"]) == 2:\n",
    "                value = feature.contents[1].string\n",
    "                name = feature.contents[3][\"class\"][1] \n",
    "            elif len(feature.contents[3][\"class\"]) == 1:\n",
    "                value = feature.contents[3].string\n",
    "                name = feature.contents[1][\"class\"][1] \n",
    "            #print(f'({name}:{value})')\n",
    "            \n",
    "            maison[\"features\"][name]=value\n",
    "        \n",
    "        maisons.append(maison)\n"
   ]
  },
  {
   "cell_type": "markdown",
   "id": "2f2f389a",
   "metadata": {},
   "source": []
  },
  {
   "cell_type": "markdown",
   "id": "9368fc34",
   "metadata": {},
   "source": [
    "## Enregistrement des données récoltées dans un fichier csv"
   ]
  },
  {
   "cell_type": "code",
   "execution_count": null,
   "id": "f7b8e414",
   "metadata": {},
   "outputs": [],
   "source": [
    "\n",
    "header = [\"bedroom\",\"bathroom\",\"garage\",\"parking\",\"erf-size\",\"building-size\",\"price\"]\n",
    "\n",
    "with open(\"housePriceCapeTown.csv\", \"wt\",newline='',encoding='utf-8') as csv_file:\n",
    "    csv_writer = writer(csv_file,delimiter='|')\n",
    "    csv_writer.writerow(header) # write header\n",
    "    # Write data to csv file\n",
    "    for maison in maisons:\n",
    "        #print(maison)\n",
    "        for key,value in maison.items():\n",
    "            if key == \"features\":\n",
    "                t = []\n",
    "                for _ in header:\n",
    "                    \n",
    "                    if _ in value.keys() and _ != \"price\":\n",
    "                        t.append(value[_])\n",
    "                       \n",
    "                    elif _ not in value.keys() and _ != \"price\":\n",
    "                        t.append('NaN')\n",
    "                    elif _ == \"price\":\n",
    "                        prix = maison[\"price\"].replace(\",\",\"\")\n",
    "                        t.append(maison[\"price\"])\n",
    "                print(t)\n",
    "                csv_writer.writerow(t)\n"
   ]
  }
 ],
 "metadata": {
  "kernelspec": {
   "display_name": "Python 3 (ipykernel)",
   "language": "python",
   "name": "python3"
  },
  "language_info": {
   "codemirror_mode": {
    "name": "ipython",
    "version": 3
   },
   "file_extension": ".py",
   "mimetype": "text/x-python",
   "name": "python",
   "nbconvert_exporter": "python",
   "pygments_lexer": "ipython3",
   "version": "3.10.8"
  },
  "vscode": {
   "interpreter": {
    "hash": "916dbcbb3f70747c44a77c7bcd40155683ae19c65e1c03b4aa3499c5328201f1"
   }
  }
 },
 "nbformat": 4,
 "nbformat_minor": 5
}
